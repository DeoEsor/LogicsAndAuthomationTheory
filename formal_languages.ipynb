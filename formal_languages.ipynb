{
  "nbformat": 4,
  "nbformat_minor": 0,
  "metadata": {
    "colab": {
      "provenance": [],
      "include_colab_link": true
    },
    "kernelspec": {
      "name": "python3",
      "display_name": "Python 3"
    },
    "language_info": {
      "name": "python"
    }
  },
  "cells": [
    {
      "cell_type": "markdown",
      "metadata": {
        "id": "view-in-github",
        "colab_type": "text"
      },
      "source": [
        "<a href=\"https://colab.research.google.com/github/DeoEsor/LogicsAndAuthomationTheory/blob/main/formal_languages.ipynb\" target=\"_parent\"><img src=\"https://colab.research.google.com/assets/colab-badge.svg\" alt=\"Open In Colab\"/></a>"
      ]
    },
    {
      "cell_type": "markdown",
      "source": [
        "$T \\Rightarrow TF \\Rightarrow TFF \\Rightarrow TFFF \\Rightarrow FFFF \\Rightarrow 2FFF \\Rightarrow 20FF \\Rightarrow 200F \\Rightarrow 2001$"
      ],
      "metadata": {
        "id": "2x4ev6lc4RtT"
      }
    },
    {
      "cell_type": "markdown",
      "source": [
        "$S \\Rightarrow -T \\Rightarrow -TF \\Rightarrow -FF \\Rightarrow -5F \\Rightarrow -57$"
      ],
      "metadata": {
        "id": "hElTfASP4nc3"
      }
    },
    {
      "cell_type": "markdown",
      "source": [
        "$F \\Rightarrow 8$"
      ],
      "metadata": {
        "id": "-bsWM79o5NC_"
      }
    }
  ]
}